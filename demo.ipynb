{
 "cells": [
  {
   "cell_type": "code",
   "execution_count": 1,
   "metadata": {},
   "outputs": [
    {
     "name": "stdout",
     "output_type": "stream",
     "text": [
      "Batch file: data01/batch.config\n",
      "Batch info: testowy batch\n",
      "Data directory: data01\n",
      "[1/18] processing: 054_79_MK14 10uL - MWD 2.1L- Channel 1.txt => MK14_210 \n",
      "[2/18] processing: 054_79_MK14 10uL - MWD 2.1L- Channel 2.txt => MK14_220 \n",
      "[3/18] processing: 054_79_MK14 10uL - MWD 2.1L- Channel 3.txt => MK14_230 \n",
      "[4/18] processing: 054_79_MK14 10uL - MWD 2.1L- Channel 4.txt => MK14_240 \n",
      "[5/18] processing: 054_79_MK14 10uL - MWD 2.1L- Channel 5.txt => MK14_250 \n",
      "[6/18] processing: 054_79_MK14 10uL - MWD 2.1L- Channel 6.txt => MK14_260 \n",
      "[7/18] processing: 054_79_MK14 10uL - MWD 2.1L- Channel 7.txt => MK14_270 \n",
      "[8/18] processing: 054_79_MK14 10uL - RID2.1L- Channel 1.txt => MK14_ri \n",
      "[9/18] processing: 055_80_WZ1 20oC - MWD 2.1L- Channel 1.txt => WZ1_40_210 \n",
      "[10/18] processing: 055_80_WZ1 20oC - MWD 2.1L- Channel 2.txt => WZ1_40_220 \n",
      "[11/18] processing: 055_80_WZ1 20oC - MWD 2.1L- Channel 3.txt => WZ1_40_230 \n",
      "[12/18] processing: 055_80_WZ1 20oC - MWD 2.1L- Channel 4.txt => WZ1_40_240 \n",
      "[13/18] processing: 055_80_WZ1 20oC - MWD 2.1L- Channel 5.txt => WZ1_40_250 \n",
      "[14/18] processing: 055_80_WZ1 20oC - MWD 2.1L- Channel 6.txt => WZ1_40_260 \n",
      "[15/18] processing: 055_80_WZ1 20oC - MWD 2.1L- Channel 7.txt => WZ1_40_270 \n",
      "[16/18] processing: 055_80_WZ1 20oC - RID2.1L- Channel 1.txt => WZ1_40_ri \n",
      "[17/18] processing: FAKE1 - MWD 2.1L- Channel 2.txt => FAKE1_220 \n",
      "[18/18] processing: FAKE2 - MWD 2.1L- Channel 2.txt => FAKE2_220 \n"
     ]
    }
   ],
   "source": [
    "from py4hplc import *\n",
    "\n",
    "b = Batch('data01/batch.config')\n",
    "b.peaks(samples=['MK14', 'WZ1_40'], channels = ['220','270'], peak_time_range = [[4,20]], outfilename=\"report1.csv\")"
   ]
  },
  {
   "cell_type": "code",
   "execution_count": null,
   "metadata": {},
   "outputs": [],
   "source": []
  }
 ],
 "metadata": {
  "kernelspec": {
   "display_name": "Python 3",
   "language": "python",
   "name": "python3"
  },
  "language_info": {
   "codemirror_mode": {
    "name": "ipython",
    "version": 3
   },
   "file_extension": ".py",
   "mimetype": "text/x-python",
   "name": "python",
   "nbconvert_exporter": "python",
   "pygments_lexer": "ipython3",
   "version": "3.8.6"
  }
 },
 "nbformat": 4,
 "nbformat_minor": 4
}
